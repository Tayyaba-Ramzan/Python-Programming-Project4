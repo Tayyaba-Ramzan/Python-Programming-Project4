{
  "nbformat": 4,
  "nbformat_minor": 0,
  "metadata": {
    "colab": {
      "provenance": []
    },
    "kernelspec": {
      "name": "python3",
      "display_name": "Python 3"
    },
    "language_info": {
      "name": "python"
    }
  },
  "cells": [
    {
      "cell_type": "markdown",
      "source": [
        "# ***00_count_nums***"
      ],
      "metadata": {
        "id": "q4TDpD7Q4sdp"
      }
    },
    {
      "cell_type": "code",
      "source": [
        "def main():\n",
        "    num_counts = {}\n",
        "\n",
        "    while True:\n",
        "        user_input = input(\"\\033[94mEnter a number (or press Enter to stop): \\033[0m\")  # Blue text\n",
        "\n",
        "        if user_input == \"\":\n",
        "            break\n",
        "\n",
        "        number = int(user_input)\n",
        "\n",
        "        if number in num_counts:\n",
        "            num_counts[number] += 1\n",
        "        else:\n",
        "            num_counts[number] = 1\n",
        "\n",
        "    print(\"\\nNumber occurrences:\")\n",
        "    for num, count in num_counts.items():\n",
        "        print(f\"{num} appears {count} times.\")\n",
        "\n",
        "if __name__ == '__main__':\n",
        "    main()"
      ],
      "metadata": {
        "id": "YQkp8pyn4wzH",
        "colab": {
          "base_uri": "https://localhost:8080/"
        },
        "outputId": "3097ddfa-461e-433c-9611-fa18e1f751a8"
      },
      "execution_count": null,
      "outputs": [
        {
          "output_type": "stream",
          "name": "stdout",
          "text": [
            "\u001b[94mEnter a number (or press Enter to stop): \u001b[0m5\n",
            "\u001b[94mEnter a number (or press Enter to stop): \u001b[0m5\n",
            "\u001b[94mEnter a number (or press Enter to stop): \u001b[0m5\n",
            "\u001b[94mEnter a number (or press Enter to stop): \u001b[0m7\n",
            "\u001b[94mEnter a number (or press Enter to stop): \u001b[0m7\n",
            "\u001b[94mEnter a number (or press Enter to stop): \u001b[0m9\n",
            "\u001b[94mEnter a number (or press Enter to stop): \u001b[0m\n",
            "\n",
            "Number occurrences:\n",
            "5 appears 3 times.\n",
            "7 appears 2 times.\n",
            "9 appears 1 times.\n"
          ]
        }
      ]
    },
    {
      "cell_type": "markdown",
      "source": [
        "# ***01_phonebook***"
      ],
      "metadata": {
        "id": "RFeZckdx4z0H"
      }
    },
    {
      "cell_type": "code",
      "source": [
        "def read_phone_numbers():\n",
        "    \"\"\"\n",
        "    Ask the user for names/numbers to story in a phonebook (dictionary).\n",
        "    Returns the phonebook.\n",
        "    \"\"\"\n",
        "    phonebook = {}\n",
        "\n",
        "    while True:\n",
        "        name = input(\"Name: \")\n",
        "        if name == \"\":\n",
        "            break\n",
        "        number = input(\"Number: \")\n",
        "        phonebook[name] = number\n",
        "\n",
        "    return phonebook\n",
        "\n",
        "\n",
        "def print_phonebook(phonebook):\n",
        "    \"\"\"\n",
        "    Prints out all the names/numbers in the phonebook.\n",
        "    \"\"\"\n",
        "    for name in phonebook:\n",
        "        print(str(name) + \" -> \" + str(phonebook[name]))\n",
        "\n",
        "\n",
        "def lookup_numbers(phonebook):\n",
        "    \"\"\"\n",
        "    Allow the user to lookup phone numbers in the phonebook\n",
        "    by looking up the number associated with a name.\n",
        "    \"\"\"\n",
        "    while True:\n",
        "        name = input(\"Enter name to lookup: \")\n",
        "        if name == \"\":\n",
        "            break\n",
        "        if name not in phonebook:\n",
        "            print(name + \" is not in the phonebook\")\n",
        "        else:\n",
        "            print(phonebook[name])\n",
        "\n",
        "\n",
        "def main():\n",
        "    phonebook = read_phone_numbers()\n",
        "    print_phonebook(phonebook)\n",
        "    lookup_numbers(phonebook)\n",
        "\n",
        "\n",
        "if __name__ == '__main__':\n",
        "    main()"
      ],
      "metadata": {
        "id": "y-4MrAAG43RX",
        "colab": {
          "base_uri": "https://localhost:8080/"
        },
        "outputId": "3c4e0359-c78b-4871-f6f3-7de4c4929776"
      },
      "execution_count": 7,
      "outputs": [
        {
          "name": "stdout",
          "output_type": "stream",
          "text": [
            "Name: Tayyaba Ramzan\n",
            "Number: 0301-2345678\n",
            "Name: Safia Ahsan\n",
            "Number: 0320-9876543\n",
            "Name: Anabiya Hassan\n",
            "Number: 0345-1112233\n",
            "Name: \n",
            "Tayyaba Ramzan -> 0301-2345678\n",
            "Safia Ahsan -> 0320-9876543\n",
            "Anabiya Hassan -> 0345-1112233\n",
            "Enter name to lookup: Tayyaba Ramzan\n",
            "0301-2345678\n",
            "Enter name to lookup: Safia Ahsan\n",
            "0320-9876543\n",
            "Enter name to lookup: Anabiya Hassan\n",
            "0345-1112233\n",
            "Enter name to lookup: \n"
          ]
        }
      ]
    },
    {
      "cell_type": "markdown",
      "source": [
        "# ***02_pop_up_shop***"
      ],
      "metadata": {
        "id": "23qIEHWD444v"
      }
    },
    {
      "cell_type": "code",
      "source": [
        "def main():\n",
        "    fruit_prices = {\n",
        "        \"apple\": 3.5,\n",
        "        \"durian\": 15.0,\n",
        "        \"jackfruit\": 20.0,\n",
        "        \"kiwi\": 2.5,\n",
        "        \"rambutan\": 5.0,\n",
        "        \"mango\": 7.0\n",
        "    }\n",
        "\n",
        "    total_cost = 0\n",
        "\n",
        "    BOLD_ITALIC = '\\033[1;3m'\n",
        "    RESET = '\\033[0m'\n",
        "\n",
        "    for fruit, price in fruit_prices.items():\n",
        "        quantity = int(input(f\"How many {BOLD_ITALIC}({fruit}){RESET} do you want?: \"))  # User input with bold and italic fruit name in parentheses\n",
        "        total_cost += quantity * price\n",
        "\n",
        "\n",
        "    print(f\"\\nYour total is ${total_cost:.2f}\")\n",
        "\n",
        "if __name__ == '__main__':\n",
        "    main()"
      ],
      "metadata": {
        "id": "5PsX0tND47rX",
        "colab": {
          "base_uri": "https://localhost:8080/"
        },
        "outputId": "eade0a31-46bf-48b7-8373-44cc68143671"
      },
      "execution_count": 5,
      "outputs": [
        {
          "output_type": "stream",
          "name": "stdout",
          "text": [
            "How many \u001b[1;3m(apple)\u001b[0m do you want?: 6\n",
            "How many \u001b[1;3m(durian)\u001b[0m do you want?: 2\n",
            "How many \u001b[1;3m(jackfruit)\u001b[0m do you want?: 8\n",
            "How many \u001b[1;3m(kiwi)\u001b[0m do you want?: 12\n",
            "How many \u001b[1;3m(rambutan)\u001b[0m do you want?: 6\n",
            "How many \u001b[1;3m(mango)\u001b[0m do you want?: 24\n",
            "\n",
            "Your total is $439.00\n"
          ]
        }
      ]
    },
    {
      "cell_type": "markdown",
      "source": [
        "# ***03_powerful_passwords***"
      ],
      "metadata": {
        "id": "XnNHHe-F49ZP"
      }
    },
    {
      "cell_type": "code",
      "source": [
        "from hashlib import sha256\n",
        "\n",
        "def login(email, stored_logins, password_to_check):\n",
        "    \"\"\"\n",
        "    Returns True if the hash of the password we are checking matches the one in stored_logins\n",
        "    for a specific email. Otherwise, returns False.\n",
        "\n",
        "    email: the email we are checking the password for\n",
        "    stored_logins: a dictionary pointing from an email to its hashed password\n",
        "    password_to_check: a password we want to test alongside the email to login with\n",
        "    \"\"\"\n",
        "\n",
        "    if stored_logins[email] == hash_password(password_to_check):\n",
        "        return True\n",
        "\n",
        "    return False\n",
        "\n",
        "\n",
        "def hash_password(password):\n",
        "    \"\"\"\n",
        "    Takes in a password and returns the SHA256 hashed value for that specific password.\n",
        "\n",
        "    Inputs:\n",
        "        password: the password we want\n",
        "\n",
        "    Outputs:\n",
        "        the hashed form of the input password\n",
        "    \"\"\"\n",
        "\n",
        "    return sha256(password.encode()).hexdigest()\n",
        "\n",
        "def main():\n",
        "    stored_logins = {\n",
        "        \"example@gmail.com\": \"5e884898da28047151d0e56f8dc6292773603d0d6aabbdd62a11ef721d1542d8\",\n",
        "        \"code_in_placer@cip.org\": \"973607a4ae7b4cf7d96a100b0fb07e8519cc4f70441d41214a9f811577bb06cc\",\n",
        "        \"student@stanford.edu\": \"882c6df720fd99f5eebb1581a1cf975625cea8a160283011c0b9512bb56c95fb\"\n",
        "    }\n",
        "\n",
        "    print(login(\"example@gmail.com\", stored_logins, \"word\"))\n",
        "    print(login(\"example@gmail.com\", stored_logins, \"password\"))\n",
        "\n",
        "    print(login(\"code_in_placer@cip.org\", stored_logins, \"Karel\"))\n",
        "    print(login(\"code_in_placer@cip.org\", stored_logins, \"karel\"))\n",
        "\n",
        "    print(login(\"student@stanford.edu\", stored_logins, \"password\"))\n",
        "    print(login(\"student@stanford.edu\", stored_logins, \"123!456?789\"))\n",
        "\n",
        "\n",
        "if __name__ == '__main__':\n",
        "    main()"
      ],
      "metadata": {
        "id": "VzuzDdBt5A5X",
        "colab": {
          "base_uri": "https://localhost:8080/"
        },
        "outputId": "1e592352-69e9-4979-8240-977b1cf8e24b"
      },
      "execution_count": 6,
      "outputs": [
        {
          "output_type": "stream",
          "name": "stdout",
          "text": [
            "False\n",
            "True\n",
            "False\n",
            "True\n",
            "False\n",
            "True\n"
          ]
        }
      ]
    }
  ]
}