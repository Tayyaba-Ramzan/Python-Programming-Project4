{
  "nbformat": 4,
  "nbformat_minor": 0,
  "metadata": {
    "colab": {
      "provenance": []
    },
    "kernelspec": {
      "name": "python3",
      "display_name": "Python 3"
    },
    "language_info": {
      "name": "python"
    }
  },
  "cells": [
    {
      "cell_type": "markdown",
      "source": [
        "# ***00_averages***"
      ],
      "metadata": {
        "id": "E30bTnXN6sU-"
      }
    },
    {
      "cell_type": "code",
      "source": [
        "def average(a: float, b: float):\n",
        "    \"\"\"\n",
        "    Returns the number which is half way between a and b\n",
        "    \"\"\"\n",
        "    sum = a + b\n",
        "    return sum / 2\n",
        "\n",
        "def main():\n",
        "    avg_1 = average(0, 10)\n",
        "    avg_2 = average(8, 10)\n",
        "\n",
        "    final = average(avg_1, avg_2)\n",
        "    print(\"avg_1\", avg_1)\n",
        "    print(\"avg_2\", avg_2)\n",
        "    print(\"final\", final)\n",
        "\n",
        "if __name__ == '__main__':\n",
        "    main()"
      ],
      "metadata": {
        "id": "Ozw7ZsBo6wqV",
        "colab": {
          "base_uri": "https://localhost:8080/"
        },
        "outputId": "9f7ccbe0-e06d-4dd4-f154-99d19da6b00b"
      },
      "execution_count": 1,
      "outputs": [
        {
          "output_type": "stream",
          "name": "stdout",
          "text": [
            "avg_1 5.0\n",
            "avg_2 9.0\n",
            "final 7.0\n"
          ]
        }
      ]
    },
    {
      "cell_type": "markdown",
      "source": [
        "# ***01_chaotic_counting***"
      ],
      "metadata": {
        "id": "MA3NyqpE6zIG"
      }
    },
    {
      "cell_type": "code",
      "source": [
        "import random\n",
        "\n",
        "DONE_LIKELIHOOD = 0.2  # 20% chance to randomly stop\n",
        "\n",
        "def chaotic_counting():\n",
        "    for i in range(10):\n",
        "        curr_num = i + 1\n",
        "        if done():\n",
        "            return  # randomly decide to stop\n",
        "        print(curr_num)\n",
        "\n",
        "def done():\n",
        "    \"\"\" Returns True with a probability of DONE_LIKELIHOOD \"\"\"\n",
        "    if random.random() < DONE_LIKELIHOOD:\n",
        "        return True\n",
        "    return False\n",
        "\n",
        "def main():\n",
        "    print(\"I'm going to count until 10 or until I feel like stopping, whichever comes first.\")\n",
        "    chaotic_counting()\n",
        "    print(\"I'm done\")\n",
        "\n",
        "if __name__ == \"__main__\":\n",
        "    main()\n"
      ],
      "metadata": {
        "id": "qvLALtk76179",
        "colab": {
          "base_uri": "https://localhost:8080/"
        },
        "outputId": "b4f03c02-89d4-4ef0-d55c-923b1ae944fc"
      },
      "execution_count": 2,
      "outputs": [
        {
          "output_type": "stream",
          "name": "stdout",
          "text": [
            "I'm going to count until 10 or until I feel like stopping, whichever comes first.\n",
            "1\n",
            "2\n",
            "I'm done\n"
          ]
        }
      ]
    },
    {
      "cell_type": "markdown",
      "source": [
        "# ***02_count_even***"
      ],
      "metadata": {
        "id": "bw-_xnsz63YN"
      }
    },
    {
      "cell_type": "code",
      "source": [
        "def count_even(lst):\n",
        "    \"\"\"\n",
        "    Returns number of even numbers in list.\n",
        "    >>> count_even([1,2,3,4])\n",
        "    2\n",
        "    >>> count_even([1,3,5,7])\n",
        "    0\n",
        "    \"\"\"\n",
        "    count = 0  # Stores the count of even numbers in the list\n",
        "    for num in lst:  # Loop through the numbers in the list\n",
        "        if num % 2 == 0:  # If the current number in the list is even (divisible by 2)\n",
        "            count += 1  # Add one to our count!\n",
        "\n",
        "    # Here's another way to do this same thing, with a different kind of for-loop:\n",
        "    # for i in range(len(lst)):\n",
        "    #     num = lst[i]\n",
        "    #     if num % 2 == 0:\n",
        "    #         count += 1\n",
        "\n",
        "    return count  # Return the count of even numbers instead of printing it\n",
        "\n",
        "def get_list_of_ints():\n",
        "    \"\"\"\n",
        "    Reads in integers until the user presses enter and returns the resulting list.\n",
        "    \"\"\"\n",
        "    lst = []  # Make an empty list to store integers\n",
        "    user_input = input(\"Enter an integer or press enter to stop: \")  # Get user input for an integer\n",
        "    while user_input != \"\":  # While the user doesn't enter nothing...\n",
        "        lst.append(int(user_input))  # Cast the user input into an integer and add it to our list\n",
        "        user_input = input(\"Enter an integer or press enter to stop: \")  # Get the next user input\n",
        "\n",
        "    return lst\n",
        "\n",
        "def main():\n",
        "    lst = get_list_of_ints()\n",
        "    count_even(lst)\n",
        "\n",
        "\n",
        "# There is no need to edit code beyond this point\n",
        "\n",
        "if __name__ == '__main__':\n",
        "    main()"
      ],
      "metadata": {
        "id": "az6xn9ht66C2",
        "colab": {
          "base_uri": "https://localhost:8080/"
        },
        "outputId": "156e0b94-0fba-4e08-8cf6-deefd70f4a31"
      },
      "execution_count": 3,
      "outputs": [
        {
          "name": "stdout",
          "output_type": "stream",
          "text": [
            "Enter an integer or press enter to stop: 2\n",
            "Enter an integer or press enter to stop: 3\n",
            "Enter an integer or press enter to stop: 5\n",
            "Enter an integer or press enter to stop: \n"
          ]
        }
      ]
    },
    {
      "cell_type": "markdown",
      "source": [
        "# ***03_double***"
      ],
      "metadata": {
        "id": "18UhXj4G69td"
      }
    },
    {
      "cell_type": "code",
      "source": [
        "def double(num: int):\n",
        "    return num * 2\n",
        "\n",
        "def main():\n",
        "    num = int(input(\"Enter a number: \"))\n",
        "    num_times_2 = double(num)\n",
        "    print(\"Double that is\", num_times_2)\n",
        "\n",
        "if __name__ == '__main__':\n",
        "    main()"
      ],
      "metadata": {
        "id": "04olRGL87BHm",
        "colab": {
          "base_uri": "https://localhost:8080/"
        },
        "outputId": "c6075972-d1a0-4255-b0be-55f2b544d766"
      },
      "execution_count": 4,
      "outputs": [
        {
          "output_type": "stream",
          "name": "stdout",
          "text": [
            "Enter a number: 6\n",
            "Double that is 12\n"
          ]
        }
      ]
    },
    {
      "cell_type": "markdown",
      "source": [
        "# ***04_get_name***"
      ],
      "metadata": {
        "id": "2rNvFanQ7RwV"
      }
    },
    {
      "cell_type": "code",
      "source": [
        "def get_name():\n",
        "    return \"Tayyaba Ramzan\"\n",
        "\n",
        "def main():\n",
        "    name = get_name()\n",
        "    print(\"Howdy\", name, \"! 🤠\")\n",
        "\n",
        "if __name__ == '__main__':\n",
        "    main()"
      ],
      "metadata": {
        "id": "CKdT66G47Utl",
        "colab": {
          "base_uri": "https://localhost:8080/"
        },
        "outputId": "36bcf4ed-b411-4730-9861-6d04b9626a1c"
      },
      "execution_count": 5,
      "outputs": [
        {
          "output_type": "stream",
          "name": "stdout",
          "text": [
            "Howdy Tayyaba Ramzan ! 🤠\n"
          ]
        }
      ]
    },
    {
      "cell_type": "markdown",
      "source": [
        "# ***05_is_odd***"
      ],
      "metadata": {
        "id": "DMSpNOL47WkV"
      }
    },
    {
      "cell_type": "code",
      "source": [
        "def main():\n",
        "    for i in range(10):\n",
        "        if is_odd(i):\n",
        "            print(i,'odd')\n",
        "        else:\n",
        "            print(i,'even')\n",
        "\n",
        "def is_odd(value: int):\n",
        "    \"\"\"\n",
        "    Checks to see if a value is odd. If it is, returns true.\n",
        "    \"\"\"\n",
        "\n",
        "    remainder = value % 2\n",
        "    return remainder == 1\n",
        "\n",
        "if __name__ == '__main__':\n",
        "    main()"
      ],
      "metadata": {
        "id": "UR0osBhO7ayN",
        "colab": {
          "base_uri": "https://localhost:8080/"
        },
        "outputId": "bf00e2a6-08da-4be2-b7c2-634022af6797"
      },
      "execution_count": 6,
      "outputs": [
        {
          "output_type": "stream",
          "name": "stdout",
          "text": [
            "0 even\n",
            "1 odd\n",
            "2 even\n",
            "3 odd\n",
            "4 even\n",
            "5 odd\n",
            "6 even\n",
            "7 odd\n",
            "8 even\n",
            "9 odd\n"
          ]
        }
      ]
    },
    {
      "cell_type": "markdown",
      "source": [
        "# ***06_print_divisor***"
      ],
      "metadata": {
        "id": "iQG9gjJl7cll"
      }
    },
    {
      "cell_type": "code",
      "source": [
        "def print_divisors(num: int):\n",
        "    \"\"\"\n",
        "    Prints all divisors of the given number.\n",
        "    For example, if num is 12, it prints: 1, 2, 3, 4, 6, 12\n",
        "    \"\"\"\n",
        "    print(\"Here are the divisors of\", num)\n",
        "    for i in range(1, num + 1):\n",
        "        if num % i == 0:\n",
        "            print(i)\n",
        "\n",
        "def main():\n",
        "    # ANSI escape code for blue text\n",
        "    BLUE = '\\033[94m'\n",
        "    RESET = '\\033[0m'\n",
        "\n",
        "    print(\"Enter a number:\", end=\" \")\n",
        "    num = int(input())\n",
        "    print(f\"{BLUE}{num}{RESET}\")  # Print the input in blue\n",
        "    print_divisors(num)\n",
        "\n",
        "\n",
        "# There is no need to edit code beyond this point\n",
        "\n",
        "if __name__ == '__main__':\n",
        "    main()"
      ],
      "metadata": {
        "id": "BB3-naR67fTN",
        "colab": {
          "base_uri": "https://localhost:8080/"
        },
        "outputId": "9919d10a-6e86-45f4-adbc-27ff06e9fc06"
      },
      "execution_count": 7,
      "outputs": [
        {
          "output_type": "stream",
          "name": "stdout",
          "text": [
            "Enter a number: 5\n",
            "\u001b[94m5\u001b[0m\n",
            "Here are the divisors of 5\n",
            "1\n",
            "5\n"
          ]
        }
      ]
    },
    {
      "cell_type": "markdown",
      "source": [
        "# ***07_print_multiple***"
      ],
      "metadata": {
        "id": "cbJldCdv7mZd"
      }
    },
    {
      "cell_type": "code",
      "source": [
        "def print_multiple(message, repeats):\n",
        "    \"\"\"Prints the given message multiple times.\"\"\"\n",
        "    for _ in range(repeats):\n",
        "        print(message)\n",
        "\n",
        "def main():\n",
        "    message = input(\"Please type a message: \")\n",
        "    repeats = int(input(\"Enter a number of times to repeat your message: \"))\n",
        "    print_multiple(message, repeats)\n",
        "\n",
        "if __name__ == \"__main__\":\n",
        "    main()\n"
      ],
      "metadata": {
        "id": "mxIU4NfG7qeM",
        "colab": {
          "base_uri": "https://localhost:8080/"
        },
        "outputId": "c2e45f44-8d6f-4e55-f868-d6dc73e18d44"
      },
      "execution_count": 10,
      "outputs": [
        {
          "output_type": "stream",
          "name": "stdout",
          "text": [
            "Please type a message: \u001b[34mHello!\u001b[0m\n",
            "Enter a number of times to repeat your message: 5\n",
            "\u001b[34mHello!\u001b[0m\n",
            "\u001b[34mHello!\u001b[0m\n",
            "\u001b[34mHello!\u001b[0m\n",
            "\u001b[34mHello!\u001b[0m\n",
            "\u001b[34mHello!\u001b[0m\n"
          ]
        }
      ]
    },
    {
      "cell_type": "markdown",
      "source": [
        "# ***08_sentence_generator***"
      ],
      "metadata": {
        "id": "5TUnMBiX7sQE"
      }
    },
    {
      "cell_type": "code",
      "source": [
        "def make_sentence(word, part_of_speech):\n",
        "    if part_of_speech == 0:\n",
        "        # noun\n",
        "        print(f\"I am excited to add this {word} to my vast collection of them!\")\n",
        "    elif part_of_speech == 1:\n",
        "        # verb\n",
        "        print(f\"It's so nice outside today it makes me want to {word}!\")\n",
        "    elif part_of_speech == 2:\n",
        "        # adjective\n",
        "        print(f\"Looking out my window, the sky is big and {word}!\")\n",
        "    else:\n",
        "        print(\"Part of speech must be 0, 1, or 2! Can't make a sentence.\")\n",
        "\n",
        "def main():\n",
        "    # ANSI escape code for blue color\n",
        "    BLUE = '\\033[94m'\n",
        "    RESET = '\\033[0m'\n",
        "\n",
        "    # Get the word from the user\n",
        "    word = input(f\"Please type a noun, verb, or adjective: {BLUE}\")\n",
        "    print(RESET, end=\"\")\n",
        "\n",
        "    # Ask for part of speech\n",
        "    print(\"Is this a noun, verb, or adjective?\")\n",
        "    while True:\n",
        "        try:\n",
        "            inp = input(f\"Type 0 for noun, 1 for verb, 2 for adjective: {BLUE}\")\n",
        "            print(RESET, end=\"\")\n",
        "            if inp.strip() == \"\":\n",
        "                print(\"Input can't be empty! Please type 0, 1, or 2.\")\n",
        "                continue\n",
        "            part_of_speech = int(inp)\n",
        "            if part_of_speech not in [0, 1, 2]:\n",
        "                print(\"Please enter 0, 1, or 2 only!\")\n",
        "                continue\n",
        "            break\n",
        "        except ValueError:\n",
        "            print(\"Please enter a valid number (0, 1, or 2)!\")\n",
        "\n",
        "    make_sentence(word, part_of_speech)\n",
        "\n",
        "if __name__ == '__main__':\n",
        "    main()\n"
      ],
      "metadata": {
        "id": "5fSzwT4y7uTs",
        "colab": {
          "base_uri": "https://localhost:8080/"
        },
        "outputId": "8d6c4882-abad-4b86-a58e-1c99699fded2"
      },
      "execution_count": 12,
      "outputs": [
        {
          "output_type": "stream",
          "name": "stdout",
          "text": [
            "Please type a noun, verb, or adjective: \u001b[94mdance\n",
            "\u001b[0mIs this a noun, verb, or adjective?\n",
            "Type 0 for noun, 1 for verb, 2 for adjective: \u001b[94m1\n",
            "\u001b[0mIt's so nice outside today it makes me want to dance!\n"
          ]
        }
      ]
    },
    {
      "cell_type": "markdown",
      "source": [
        "# ***9_print_ones_digit***"
      ],
      "metadata": {
        "id": "XtJ-Is0-7wLs"
      }
    },
    {
      "cell_type": "code",
      "source": [
        "def print_ones_digit(num):\n",
        "    ones_digit = num % 10\n",
        "    print(\"The ones digit is\", ones_digit)\n",
        "\n",
        "def main():\n",
        "    # ANSI escape code for blue color\n",
        "    BLUE = '\\033[94m'\n",
        "    RESET = '\\033[0m'\n",
        "\n",
        "    num = int(input(f\"Enter a number: {BLUE}\"))\n",
        "    print(RESET, end=\"\")  # reset color after input\n",
        "    print_ones_digit(num)\n",
        "\n",
        "if __name__ == '__main__':\n",
        "    main()\n"
      ],
      "metadata": {
        "id": "CYH8A8Fa75oM",
        "colab": {
          "base_uri": "https://localhost:8080/"
        },
        "outputId": "397ded0c-e125-4a25-c5b6-f4248e6acfd8"
      },
      "execution_count": 15,
      "outputs": [
        {
          "output_type": "stream",
          "name": "stdout",
          "text": [
            "Enter a number: \u001b[94m555\n",
            "\u001b[0mThe ones digit is 5\n"
          ]
        }
      ]
    }
  ]
}