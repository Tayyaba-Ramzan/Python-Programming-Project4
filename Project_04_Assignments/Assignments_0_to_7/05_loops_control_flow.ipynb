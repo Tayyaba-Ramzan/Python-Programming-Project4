{
  "nbformat": 4,
  "nbformat_minor": 0,
  "metadata": {
    "colab": {
      "provenance": []
    },
    "kernelspec": {
      "name": "python3",
      "display_name": "Python 3"
    },
    "language_info": {
      "name": "python"
    }
  },
  "cells": [
    {
      "cell_type": "markdown",
      "source": [
        "# ***00_guess_my_number***"
      ],
      "metadata": {
        "id": "7hIlEnyc5XCf"
      }
    },
    {
      "cell_type": "code",
      "source": [
        "import random\n",
        "\n",
        "def main():\n",
        "    secret_number = random.randint(1, 99)\n",
        "\n",
        "    print(\"I am thinking of a number between 1 and 99...\")\n",
        "\n",
        "    guess = int(input(\"Enter a guess: \"))\n",
        "    while guess != secret_number:\n",
        "        if guess < secret_number:\n",
        "            print(\"Your guess is too low\")\n",
        "        else:\n",
        "            print(\"Your guess is too high\")\n",
        "\n",
        "        print()\n",
        "        guess = int(input(\"Enter a new guess: \"))\n",
        "\n",
        "    print(\"Congrats! The number was: \" + str(secret_number))\n",
        "\n",
        "if __name__ == '__main__':\n",
        "    main()"
      ],
      "metadata": {
        "id": "TMTna4Tn5bKH",
        "colab": {
          "base_uri": "https://localhost:8080/"
        },
        "outputId": "8d218686-008d-4944-f33d-f339ebba0d02"
      },
      "execution_count": 1,
      "outputs": [
        {
          "output_type": "stream",
          "name": "stdout",
          "text": [
            "I am thinking of a number between 1 and 99...\n",
            "Enter a guess: 55\n",
            "Your guess is too high\n",
            "\n",
            "Enter a new guess: 33\n",
            "Your guess is too low\n",
            "\n",
            "Enter a new guess: 44\n",
            "Your guess is too high\n",
            "\n",
            "Enter a new guess: 36\n",
            "Your guess is too low\n",
            "\n",
            "Enter a new guess: 40\n",
            "Your guess is too low\n",
            "\n",
            "Enter a new guess: 42\n",
            "Your guess is too low\n",
            "\n",
            "Enter a new guess: 44\n",
            "Your guess is too high\n",
            "\n",
            "Enter a new guess: 43\n",
            "Congrats! The number was: 43\n"
          ]
        }
      ]
    },
    {
      "cell_type": "markdown",
      "source": [
        "# ***01_fibonacci***"
      ],
      "metadata": {
        "id": "wpSbjaoQ5dQn"
      }
    },
    {
      "cell_type": "code",
      "source": [
        "MAX_TERM_VALUE : int = 10000\n",
        "\n",
        "def main():\n",
        "    curr_term = 0\n",
        "    next_term = 1\n",
        "    while curr_term <= MAX_TERM_VALUE:\n",
        "        print(curr_term)\n",
        "        term_after_next = curr_term + next_term\n",
        "        curr_term = next_term\n",
        "        next_term = term_after_next\n",
        "\n",
        "if __name__ == '__main__':\n",
        "    main()"
      ],
      "metadata": {
        "id": "ibWw6DZk5gWG",
        "colab": {
          "base_uri": "https://localhost:8080/"
        },
        "outputId": "38a1a3f6-28fb-496d-ae8d-ce3514bcbfd2"
      },
      "execution_count": 2,
      "outputs": [
        {
          "output_type": "stream",
          "name": "stdout",
          "text": [
            "0\n",
            "1\n",
            "1\n",
            "2\n",
            "3\n",
            "5\n",
            "8\n",
            "13\n",
            "21\n",
            "34\n",
            "55\n",
            "89\n",
            "144\n",
            "233\n",
            "377\n",
            "610\n",
            "987\n",
            "1597\n",
            "2584\n",
            "4181\n",
            "6765\n"
          ]
        }
      ]
    },
    {
      "cell_type": "markdown",
      "source": [
        "# ***02_print_events***"
      ],
      "metadata": {
        "id": "U0c1DDO_5h2Y"
      }
    },
    {
      "cell_type": "code",
      "source": [
        "def main():\n",
        "    for i in range(20):\n",
        "        print(i * 2)\n",
        "\n",
        "if __name__ == \"__main__\":\n",
        "    main()"
      ],
      "metadata": {
        "id": "bBSSom6r5kNm",
        "colab": {
          "base_uri": "https://localhost:8080/"
        },
        "outputId": "a368e6da-d3f7-4d1b-b87a-852fc208c9d3"
      },
      "execution_count": 3,
      "outputs": [
        {
          "output_type": "stream",
          "name": "stdout",
          "text": [
            "0\n",
            "2\n",
            "4\n",
            "6\n",
            "8\n",
            "10\n",
            "12\n",
            "14\n",
            "16\n",
            "18\n",
            "20\n",
            "22\n",
            "24\n",
            "26\n",
            "28\n",
            "30\n",
            "32\n",
            "34\n",
            "36\n",
            "38\n"
          ]
        }
      ]
    },
    {
      "cell_type": "markdown",
      "source": [
        "# ***03_wholesome_machine***"
      ],
      "metadata": {
        "id": "Js8a80Gm5l3u"
      }
    },
    {
      "cell_type": "code",
      "source": [
        "def main():\n",
        "    affirmation = \"I am capable of doing anything I put my mind to.\"\n",
        "    print(f\"Please type the following affirmation: {affirmation}\")\n",
        "\n",
        "    while True:\n",
        "        user_input = input(\"\\033[34m\")\n",
        "        print(\"\\033[0m\", end=\"\")\n",
        "\n",
        "        if user_input == affirmation:\n",
        "            print(\"That's right! :)\")\n",
        "            break\n",
        "        else:\n",
        "            print(\"Hmmm That was not the affirmation. Please type the following affirmation:\", affirmation)\n",
        "\n",
        "if __name__ == '__main__':\n",
        "    main()"
      ],
      "metadata": {
        "id": "feht8b7H5qH-",
        "colab": {
          "base_uri": "https://localhost:8080/"
        },
        "outputId": "5521c769-c7bf-43db-a196-be9a6dedb6b5"
      },
      "execution_count": 4,
      "outputs": [
        {
          "output_type": "stream",
          "name": "stdout",
          "text": [
            "Please type the following affirmation: I am capable of doing anything I put my mind to.\n",
            "\u001b[34mPlease type the following affirmation: I am capable of doing anything I put my mind to.\n",
            "\u001b[0mHmmm That was not the affirmation. Please type the following affirmation: I am capable of doing anything I put my mind to.\n",
            "\u001b[34mI am capable of doing anything I put my mind to.\n",
            "\u001b[0mThat's right! :)\n"
          ]
        }
      ]
    },
    {
      "cell_type": "markdown",
      "source": [
        "# ***04_liftoff***"
      ],
      "metadata": {
        "id": "LpX9qRTH5sku"
      }
    },
    {
      "cell_type": "code",
      "source": [
        "def main():\n",
        "\n",
        "    for i in range(10, 0, -1):\n",
        "        print(i, end=\" \")\n",
        "    print(\"Liftoff!\")\n",
        "\n",
        "\n",
        "if __name__ == '__main__':\n",
        "    main()"
      ],
      "metadata": {
        "id": "ehwGYRRG5w9-",
        "colab": {
          "base_uri": "https://localhost:8080/"
        },
        "outputId": "cd18c91d-dce9-49f6-ac89-11a3f073f039"
      },
      "execution_count": 5,
      "outputs": [
        {
          "output_type": "stream",
          "name": "stdout",
          "text": [
            "10 9 8 7 6 5 4 3 2 1 Liftoff!\n"
          ]
        }
      ]
    },
    {
      "cell_type": "markdown",
      "source": [
        "# ***05_double_it***"
      ],
      "metadata": {
        "id": "Rmcz6M2K5y6m"
      }
    },
    {
      "cell_type": "code",
      "source": [
        "def main():\n",
        "    curr_value = int(input(\"Enter a number: \"))\n",
        "\n",
        "    while curr_value < 100:\n",
        "        curr_value = curr_value * 2\n",
        "        print(curr_value, end=\" \")\n",
        "\n",
        "if __name__ == '__main__':\n",
        "    main()\n"
      ],
      "metadata": {
        "id": "Qt56UO8m51J6",
        "colab": {
          "base_uri": "https://localhost:8080/"
        },
        "outputId": "8dfa2925-1f05-41c8-89fa-5e5c53e2f937"
      },
      "execution_count": 6,
      "outputs": [
        {
          "output_type": "stream",
          "name": "stdout",
          "text": [
            "Enter a number: 8\n",
            "16 32 64 128 "
          ]
        }
      ]
    }
  ]
}