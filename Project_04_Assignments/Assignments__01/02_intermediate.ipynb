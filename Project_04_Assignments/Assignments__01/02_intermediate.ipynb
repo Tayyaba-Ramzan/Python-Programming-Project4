{
  "nbformat": 4,
  "nbformat_minor": 0,
  "metadata": {
    "colab": {
      "provenance": []
    },
    "kernelspec": {
      "name": "python3",
      "display_name": "Python 3"
    },
    "language_info": {
      "name": "python"
    }
  },
  "cells": [
    {
      "cell_type": "markdown",
      "source": [
        "# ***Control Flow for Console***"
      ],
      "metadata": {
        "id": "HP3m7p3kxhP3"
      }
    },
    {
      "cell_type": "markdown",
      "source": [
        "# ***high_low_game***"
      ],
      "metadata": {
        "id": "Wh5cDuidxizn"
      }
    },
    {
      "cell_type": "code",
      "source": [
        "import random\n",
        "\n",
        "NUM_ROUNDS = 5  # Number of rounds to play\n",
        "\n",
        "def main():\n",
        "    print(\"Welcome to the High-Low Game!\")\n",
        "    print(\"--------------------------------\")\n",
        "\n",
        "    score = 0  # Initialize score\n",
        "\n",
        "    for round_num in range(1, NUM_ROUNDS + 1):\n",
        "        print(f\"Round {round_num}\")\n",
        "\n",
        "        user_number = random.randint(1, 100)\n",
        "        computer_number = random.randint(1, 100)\n",
        "\n",
        "        print(f\"Your number is {user_number}\")\n",
        "\n",
        "        # Take valid input from user\n",
        "        while True:\n",
        "            guess = input(\"Do you think your number is higher or lower than the computer's? (higher/lower): \").strip().lower()\n",
        "            if guess in [\"higher\", \"lower\"]:\n",
        "                break\n",
        "            print(\"Invalid input! Please enter either 'higher' or 'lower'.\")\n",
        "\n",
        "        # Determine if the user's guess is correct\n",
        "        if (guess == \"higher\" and user_number > computer_number) or (guess == \"lower\" and user_number < computer_number):\n",
        "            print(\"You were right!\", end=\" \")\n",
        "            score += 1\n",
        "        else:\n",
        "            print(\"Aww, that's incorrect.\", end=\" \")\n",
        "\n",
        "        print(f\"The computer's number was {computer_number}\")\n",
        "        print(f\"Your score is now {score}\\n\")\n",
        "\n",
        "    # Conditional ending messages\n",
        "    print(\"Thanks for playing!\")\n",
        "    if score == NUM_ROUNDS:\n",
        "        print(\"Wow! You played perfectly!\")\n",
        "    elif score >= NUM_ROUNDS // 2:\n",
        "        print(\"Good job, you played really well!\")\n",
        "    else:\n",
        "        print(\"Better luck next time!\")\n",
        "\n",
        "if __name__ == '__main__':\n",
        "    main()"
      ],
      "metadata": {
        "colab": {
          "base_uri": "https://localhost:8080/"
        },
        "id": "HieZkX7hxqEX",
        "outputId": "356486f7-97b7-49c9-f88f-a1fc47befac8"
      },
      "execution_count": 6,
      "outputs": [
        {
          "output_type": "stream",
          "name": "stdout",
          "text": [
            "Welcome to the High-Low Game!\n",
            "--------------------------------\n",
            "Round 1\n",
            "Your number is 28\n",
            "Do you think your number is higher or lower than the computer's? (higher/lower): lower\n",
            "You were right! The computer's number was 68\n",
            "Your score is now 1\n",
            "\n",
            "Round 2\n",
            "Your number is 16\n",
            "Do you think your number is higher or lower than the computer's? (higher/lower): lower\n",
            "You were right! The computer's number was 66\n",
            "Your score is now 2\n",
            "\n",
            "Round 3\n",
            "Your number is 24\n",
            "Do you think your number is higher or lower than the computer's? (higher/lower): lower\n",
            "You were right! The computer's number was 99\n",
            "Your score is now 3\n",
            "\n",
            "Round 4\n",
            "Your number is 6\n",
            "Do you think your number is higher or lower than the computer's? (higher/lower): lower\n",
            "You were right! The computer's number was 20\n",
            "Your score is now 4\n",
            "\n",
            "Round 5\n",
            "Your number is 18\n",
            "Do you think your number is higher or lower than the computer's? (higher/lower): lower\n",
            "Aww, that's incorrect. The computer's number was 7\n",
            "Your score is now 4\n",
            "\n",
            "Thanks for playing!\n",
            "Good job, you played really well!\n"
          ]
        }
      ]
    },
    {
      "cell_type": "markdown",
      "source": [
        "# ***Intro to Python***"
      ],
      "metadata": {
        "id": "MTtrLYkKxweX"
      }
    },
    {
      "cell_type": "markdown",
      "source": [
        "# ***mars_weight_solution***"
      ],
      "metadata": {
        "id": "LeqMWeDyxzh2"
      }
    },
    {
      "cell_type": "code",
      "source": [
        "def main():\n",
        "    # Dictionary to store planet gravity factors\n",
        "    planet_gravity = {\n",
        "        \"Mercury\": 0.376,\n",
        "        \"Venus\": 0.889,\n",
        "        \"Mars\": 0.378,\n",
        "        \"Jupiter\": 2.36,\n",
        "        \"Saturn\": 1.081,\n",
        "        \"Uranus\": 0.815,\n",
        "        \"Neptune\": 1.14\n",
        "    }\n",
        "\n",
        "    # Taking user input\n",
        "    earth_weight = float(input(\"Enter a weight on Earth: \"))\n",
        "    planet = input(\"Enter a planet: \")\n",
        "\n",
        "    # Checking if planet is valid and calculating weight\n",
        "    if planet in planet_gravity:\n",
        "        planet_weight = round(earth_weight * planet_gravity[planet], 2)\n",
        "        print(f\"The equivalent weight on {planet}: {planet_weight}\")\n",
        "    else:\n",
        "        print(\"Invalid planet name. Please enter a valid planet from the solar system.\")\n",
        "\n",
        "# Ensuring main() runs when script is executed\n",
        "if __name__ == \"__main__\":\n",
        "    main()"
      ],
      "metadata": {
        "colab": {
          "base_uri": "https://localhost:8080/"
        },
        "id": "d7C49IQ5x26P",
        "outputId": "106d2246-1ca7-4a88-9d18-af7dad885098"
      },
      "execution_count": 3,
      "outputs": [
        {
          "output_type": "stream",
          "name": "stdout",
          "text": [
            "Enter a weight on Earth: 100\n",
            "Enter a planet: Jupiter\n",
            "The equivalent weight on Jupiter: 236.0\n"
          ]
        }
      ]
    },
    {
      "cell_type": "markdown",
      "source": [
        "# ***Lists and Dicts***"
      ],
      "metadata": {
        "id": "2iJlT7I7x5x-"
      }
    },
    {
      "cell_type": "markdown",
      "source": [
        "# ***index_game***"
      ],
      "metadata": {
        "id": "f5mWrpKQx8g3"
      }
    },
    {
      "cell_type": "code",
      "source": [
        "def access_element(my_list, index):\n",
        "    \"\"\"Returns the element at the given index or an error message.\"\"\"\n",
        "    if 0 <= index < len(my_list):\n",
        "        return f\"Element at index {index}: {my_list[index]}\"\n",
        "    return \"Index out of range!\"\n",
        "\n",
        "def modify_element(my_list, index, new_value):\n",
        "    \"\"\"Modifies the element at the given index or returns an error.\"\"\"\n",
        "    if 0 <= index < len(my_list):\n",
        "        my_list[index] = new_value\n",
        "        return f\"Updated list: {my_list}\"\n",
        "    return \"Index out of range!\"\n",
        "\n",
        "def slice_list(my_list, start, end):\n",
        "    \"\"\"Returns a sliced list with proper index handling.\"\"\"\n",
        "    if 0 <= start < len(my_list) and 0 <= end <= len(my_list):\n",
        "        return f\"Sliced list: {my_list[start:end]}\"\n",
        "    return \"Invalid indices!\"\n",
        "\n",
        "def main():\n",
        "    my_list = [\"apple\", \"banana\", \"cherry\", \"date\", \"elderberry\"]\n",
        "\n",
        "    while True:\n",
        "        print(\"\\nOperations: 1. Access  2. Modify  3. Slice  4. Exit\")\n",
        "        choice = input(\"Choose an operation: \")\n",
        "\n",
        "        if choice == \"1\":\n",
        "            index = int(input(\"Enter index: \"))\n",
        "            print(access_element(my_list, index))\n",
        "\n",
        "        elif choice == \"2\":\n",
        "            index = int(input(\"Enter index: \"))\n",
        "            new_value = input(\"Enter new value: \")\n",
        "            print(modify_element(my_list, index, new_value))\n",
        "\n",
        "        elif choice == \"3\":\n",
        "            start = int(input(\"Enter start index: \"))\n",
        "            end = int(input(\"Enter end index: \"))\n",
        "            print(slice_list(my_list, start, end))\n",
        "\n",
        "        elif choice == \"4\":\n",
        "            print(\"Exiting the game. Goodbye!\")\n",
        "            break\n",
        "\n",
        "        else:\n",
        "            print(\"Invalid choice! Please try again.\")\n",
        "\n",
        "if __name__ == \"__main__\":\n",
        "    main()"
      ],
      "metadata": {
        "colab": {
          "base_uri": "https://localhost:8080/"
        },
        "id": "7DixPyemx_K3",
        "outputId": "2dd2c792-dfde-41a1-cb9f-a7e73764ead8"
      },
      "execution_count": 2,
      "outputs": [
        {
          "output_type": "stream",
          "name": "stdout",
          "text": [
            "\n",
            "Operations: 1. Access  2. Modify  3. Slice  4. Exit\n",
            "Choose an operation: 1\n",
            "Enter index: 0\n",
            "Element at index 0: apple\n",
            "\n",
            "Operations: 1. Access  2. Modify  3. Slice  4. Exit\n",
            "Choose an operation: 2\n",
            "Enter index: 3\n",
            "Enter new value: pear\n",
            "Updated list: ['apple', 'banana', 'cherry', 'pear', 'elderberry']\n",
            "\n",
            "Operations: 1. Access  2. Modify  3. Slice  4. Exit\n",
            "Choose an operation: 3\n",
            "Enter start index: 2\n",
            "Enter end index: 4\n",
            "Sliced list: ['cherry', 'pear']\n",
            "\n",
            "Operations: 1. Access  2. Modify  3. Slice  4. Exit\n",
            "Choose an operation: 4\n",
            "Exiting the game. Goodbye!\n"
          ]
        }
      ]
    },
    {
      "cell_type": "markdown",
      "source": [
        "# ***list_practice***"
      ],
      "metadata": {
        "id": "uZqnACzTyBVX"
      }
    },
    {
      "cell_type": "code",
      "source": [
        "def main():\n",
        "    fruit_list = ['apple', 'banana', 'orange', 'grape', 'pineapple']\n",
        "\n",
        "    print(\"Length of fruit list:\", len(fruit_list))\n",
        "\n",
        "    fruit_list.append('mango')\n",
        "\n",
        "    print(\"Updated fruit list:\", fruit_list)\n",
        "\n",
        "if __name__ == \"__main__\":\n",
        "    main()"
      ],
      "metadata": {
        "colab": {
          "base_uri": "https://localhost:8080/"
        },
        "id": "CT4i6L1syDu2",
        "outputId": "e177a1fc-61bd-4bef-93f5-b55911d83ad9"
      },
      "execution_count": 1,
      "outputs": [
        {
          "output_type": "stream",
          "name": "stdout",
          "text": [
            "Length of fruit list: 5\n",
            "Updated fruit list: ['apple', 'banana', 'orange', 'grape', 'pineapple', 'mango']\n"
          ]
        }
      ]
    }
  ]
}