{
  "nbformat": 4,
  "nbformat_minor": 0,
  "metadata": {
    "colab": {
      "provenance": []
    },
    "kernelspec": {
      "name": "python3",
      "display_name": "Python 3"
    },
    "language_info": {
      "name": "python"
    }
  },
  "cells": [
    {
      "cell_type": "markdown",
      "source": [
        "# ***01_add_two_numbers***"
      ],
      "metadata": {
        "id": "K1h28PQQuGL7"
      }
    },
    {
      "cell_type": "code",
      "source": [
        "def main():\n",
        "    print(\"This program adds two numbers.\")\n",
        "    num1 : str = input(\"Enter first number: \")\n",
        "    num1 : int = int(num1)\n",
        "    num2  : str = input(\"Enter second number: \")\n",
        "    num2 : int = int(num2)\n",
        "    total : int = num1 + num2\n",
        "    print(\"The total is \" + str(total) + \".\")\n",
        "\n",
        "if __name__ == '__main__':\n",
        "    main()"
      ],
      "metadata": {
        "colab": {
          "base_uri": "https://localhost:8080/"
        },
        "id": "rDcjx5pXuKoB",
        "outputId": "4a3cb076-2482-40b5-c103-66c7cac52a2d"
      },
      "execution_count": 1,
      "outputs": [
        {
          "output_type": "stream",
          "name": "stdout",
          "text": [
            "This program adds two numbers.\n",
            "Enter first number: 15\n",
            "Enter second number: 5\n",
            "The total is 20.\n"
          ]
        }
      ]
    },
    {
      "cell_type": "markdown",
      "source": [
        "# ***02_agreement_bot***"
      ],
      "metadata": {
        "id": "01_UIJ7-uSZR"
      }
    },
    {
      "cell_type": "code",
      "source": [
        "def main():\n",
        "\n",
        "    favorite_animal = input(\"\\033[3mWhat's your favorite animal? \\033[0m\")\n",
        "\n",
        "    print(f\"My favorite animal is also {favorite_animal}!\")\n",
        "\n",
        "if __name__ == '__main__':\n",
        "    main()\n"
      ],
      "metadata": {
        "colab": {
          "base_uri": "https://localhost:8080/"
        },
        "id": "eCtWbGFevtvo",
        "outputId": "d95b8a05-c9a8-4ba7-d875-8fdbd0552eb7"
      },
      "execution_count": 6,
      "outputs": [
        {
          "output_type": "stream",
          "name": "stdout",
          "text": [
            "\u001b[3mWhat's your favorite animal? \u001b[0mbutterfly\n",
            "My favorite animal is also butterfly!\n"
          ]
        }
      ]
    },
    {
      "cell_type": "markdown",
      "source": [
        "# ***03_fahrenheit_to_celsius***"
      ],
      "metadata": {
        "id": "4HdCo5a0uxjZ"
      }
    },
    {
      "cell_type": "code",
      "source": [
        "def main():\n",
        "\n",
        "    fahrenheit = float(input(\"Enter temperature in Fahrenheit: \"))\n",
        "\n",
        "    celsius = (fahrenheit - 32) * 5.0 / 9.0\n",
        "\n",
        "    print(f\"Temperature: {fahrenheit}F = {celsius}C\")\n",
        "\n",
        "if __name__ == '__main__':\n",
        "    main()\n"
      ],
      "metadata": {
        "colab": {
          "base_uri": "https://localhost:8080/"
        },
        "id": "c2PL4wiJu1vg",
        "outputId": "a5b1fd8e-009b-495b-d10a-8d32ccd60b1e"
      },
      "execution_count": 3,
      "outputs": [
        {
          "output_type": "stream",
          "name": "stdout",
          "text": [
            "Enter temperature in Fahrenheit: 98.6\n",
            "Temperature: 98.6F = 37.0C\n"
          ]
        }
      ]
    },
    {
      "cell_type": "markdown",
      "source": [
        "# ***04_how_old_are_they.***"
      ],
      "metadata": {
        "id": "SKWN9LWtvCLg"
      }
    },
    {
      "cell_type": "code",
      "source": [
        "def main():\n",
        "    anton : int = 21\n",
        "    beth : int = 6 + anton\n",
        "    chen : int = 20 + beth\n",
        "    drew  : int= chen + anton\n",
        "    ethan : int = chen\n",
        "\n",
        "    print(\"Anton is \" + str(anton))\n",
        "    print(\"Beth is \" + str(beth))\n",
        "    print(\"Chen is \" + str(chen))\n",
        "    print(\"Drew is \" + str(drew))\n",
        "    print(\"Ethan is \" + str(ethan))\n",
        "\n",
        "if __name__ == '__main__':\n",
        "    main()"
      ],
      "metadata": {
        "colab": {
          "base_uri": "https://localhost:8080/"
        },
        "id": "EowsR9yVvFPJ",
        "outputId": "0c9039e1-7b12-4153-a225-97e9fa2085b2"
      },
      "execution_count": 4,
      "outputs": [
        {
          "output_type": "stream",
          "name": "stdout",
          "text": [
            "Anton is 21\n",
            "Beth is 27\n",
            "Chen is 47\n",
            "Drew is 68\n",
            "Ethan is 47\n"
          ]
        }
      ]
    },
    {
      "cell_type": "markdown",
      "source": [
        "# ***05_triangle_perimeter***"
      ],
      "metadata": {
        "id": "hLyxz687vwoI"
      }
    },
    {
      "cell_type": "code",
      "source": [
        "def main():\n",
        "    side1: float = float(input(\"\\033[3m\\033[1mWhat is the length of side 1? \\033[0m\"))\n",
        "    side2: float = float(input(\"\\033[3m\\033[1mWhat is the length of side 2? \\033[0m\"))\n",
        "    side3: float = float(input(\"\\033[3m\\033[1mWhat is the length of side 3? \\033[0m\"))\n",
        "\n",
        "    perimeter = side1 + side2 + side3\n",
        "\n",
        "    print(f\"\\033[1mThe perimeter of the triangle is \\033[0m{perimeter}\")\n",
        "if __name__ == '__main__':\n",
        "    main()\n"
      ],
      "metadata": {
        "colab": {
          "base_uri": "https://localhost:8080/"
        },
        "id": "jUYAfbNuv0r4",
        "outputId": "035c2a18-f21d-4714-ab06-1483de1bd2f5"
      },
      "execution_count": 7,
      "outputs": [
        {
          "output_type": "stream",
          "name": "stdout",
          "text": [
            "\u001b[3m\u001b[1mWhat is the length of side 1? \u001b[0m23\n",
            "\u001b[3m\u001b[1mWhat is the length of side 2? \u001b[0m20\n",
            "\u001b[3m\u001b[1mWhat is the length of side 3? \u001b[0m15\n",
            "\u001b[1mThe perimeter of the triangle is \u001b[0m58.0\n"
          ]
        }
      ]
    },
    {
      "cell_type": "markdown",
      "source": [
        "# ***06_square_number***"
      ],
      "metadata": {
        "id": "JnFnXJ-sv8sX"
      }
    },
    {
      "cell_type": "code",
      "source": [
        "def main():\n",
        "        num: float = float(input(\"\\033[3mType a number to see its square: \\033[0m\"))\n",
        "        print(f\"{num} squared is {num ** 2}\")\n",
        "\n",
        "if __name__ == '__main__':\n",
        "    main()\n",
        "\n"
      ],
      "metadata": {
        "colab": {
          "base_uri": "https://localhost:8080/"
        },
        "id": "hLm7F8-JwAXP",
        "outputId": "b38a4ec0-665f-4801-bb64-f115084889af"
      },
      "execution_count": 8,
      "outputs": [
        {
          "output_type": "stream",
          "name": "stdout",
          "text": [
            "\u001b[3mType a number to see its square: \u001b[0m6\n",
            "6.0 squared is 36.0\n"
          ]
        }
      ]
    }
  ]
}