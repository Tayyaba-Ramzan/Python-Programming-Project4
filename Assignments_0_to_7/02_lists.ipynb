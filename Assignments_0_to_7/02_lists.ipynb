{
  "nbformat": 4,
  "nbformat_minor": 0,
  "metadata": {
    "colab": {
      "provenance": []
    },
    "kernelspec": {
      "name": "python3",
      "display_name": "Python 3"
    },
    "language_info": {
      "name": "python"
    }
  },
  "cells": [
    {
      "cell_type": "markdown",
      "source": [
        "# ***01_add_many_number***"
      ],
      "metadata": {
        "id": "q9uVBtq-zDyF"
      }
    },
    {
      "cell_type": "code",
      "source": [
        "def add_many_numbers(numbers)-> int:\n",
        "    \"\"\"\n",
        "    Takes in a list of numbers and returns the sum of those numbers.\n",
        "    \"\"\"\n",
        "\n",
        "    total_so_far: int = 0\n",
        "    for number in numbers:\n",
        "        total_so_far += number\n",
        "\n",
        "    return total_so_far\n",
        "\n",
        "def main():\n",
        "    numbers: list[int] = [1, 2, 3, 4, 5]\n",
        "    sum_of_numbers: int = add_many_numbers(numbers)\n",
        "    print(sum_of_numbers)\n",
        "\n",
        "\n",
        "if __name__ == '__main__':\n",
        "    main()"
      ],
      "metadata": {
        "colab": {
          "base_uri": "https://localhost:8080/"
        },
        "id": "8rYUgODkzI-8",
        "outputId": "4f867b46-742e-453a-b07c-6425016c4faf"
      },
      "execution_count": 1,
      "outputs": [
        {
          "output_type": "stream",
          "name": "stdout",
          "text": [
            "15\n"
          ]
        }
      ]
    },
    {
      "cell_type": "markdown",
      "source": [
        "# ***01_add_many_number***"
      ],
      "metadata": {
        "id": "Fzees6Rez8-W"
      }
    },
    {
      "cell_type": "code",
      "source": [
        "def add_many_numbers(numbers)-> int:\n",
        "    \"\"\"\n",
        "    Takes in a list of numbers and returns the sum of those numbers.\n",
        "    \"\"\"\n",
        "\n",
        "    total_so_far: int = 0\n",
        "    for number in numbers:\n",
        "        total_so_far += number\n",
        "\n",
        "    return total_so_far\n",
        "\n",
        "def main():\n",
        "    numbers: list[int] = [1, 2, 3, 4, 5]\n",
        "    sum_of_numbers: int = add_many_numbers(numbers)\n",
        "    print(sum_of_numbers)\n",
        "\n",
        "\n",
        "if __name__ == '__main__':\n",
        "    main()"
      ],
      "metadata": {
        "colab": {
          "base_uri": "https://localhost:8080/"
        },
        "id": "jugs6wvMz-yU",
        "outputId": "6440dc0a-a0ae-44cc-fa17-4512144489e1"
      },
      "execution_count": 2,
      "outputs": [
        {
          "output_type": "stream",
          "name": "stdout",
          "text": [
            "15\n"
          ]
        }
      ]
    },
    {
      "cell_type": "markdown",
      "source": [
        "# ***02_double_list***"
      ],
      "metadata": {
        "id": "sLwmfX8V0BNc"
      }
    },
    {
      "cell_type": "code",
      "source": [
        "def main():\n",
        "\n",
        "    numbers = [1, 2, 3, 4]\n",
        "\n",
        "\n",
        "    for i in range(len(numbers)):\n",
        "        numbers[i] *= 2\n",
        "\n",
        "\n",
        "    print(\"Doubled List:\", numbers)\n",
        "\n",
        "\n",
        "if __name__ == '__main__':\n",
        "    main()"
      ],
      "metadata": {
        "colab": {
          "base_uri": "https://localhost:8080/"
        },
        "id": "YhLQYGu90EjT",
        "outputId": "88953d53-e8f5-4920-928e-17dd04f34f07"
      },
      "execution_count": 3,
      "outputs": [
        {
          "output_type": "stream",
          "name": "stdout",
          "text": [
            "Doubled List: [2, 4, 6, 8]\n"
          ]
        }
      ]
    },
    {
      "cell_type": "markdown",
      "source": [
        "# ***03_erase_canvas***"
      ],
      "metadata": {
        "id": "OUmDq0Zy0IQj"
      }
    },
    {
      "cell_type": "code",
      "source": [
        "import matplotlib.pyplot as plt\n",
        "import numpy as np\n",
        "\n",
        "# Constants for grid size and cell size\n",
        "CANVAS_WIDTH = 400\n",
        "CANVAS_HEIGHT = 400\n",
        "CELL_SIZE = 40\n",
        "\n",
        "# Create a figure and axis\n",
        "fig, ax = plt.subplots(figsize=(8, 8))\n",
        "ax.set_xticks(np.arange(0, CANVAS_WIDTH, CELL_SIZE))\n",
        "ax.set_yticks(np.arange(0, CANVAS_HEIGHT, CELL_SIZE))\n",
        "\n",
        "# Initialize grid (blue cells)\n",
        "grid = np.ones((CANVAS_HEIGHT // CELL_SIZE, CANVAS_WIDTH // CELL_SIZE))\n",
        "\n",
        "# Function to draw the grid\n",
        "def draw_grid():\n",
        "    for i in range(0, CANVAS_WIDTH, CELL_SIZE):\n",
        "        ax.axvline(x=i, color='black', linewidth=1)\n",
        "    for j in range(0, CANVAS_HEIGHT, CELL_SIZE):\n",
        "        ax.axhline(y=j, color='black', linewidth=1)\n",
        "\n",
        "    # Display the grid cells\n",
        "    ax.imshow(grid, cmap='Blues', extent=[0, CANVAS_WIDTH, 0, CANVAS_HEIGHT])\n",
        "\n",
        "# Function to erase (change color of the cell)\n",
        "def on_click(event):\n",
        "    if event.xdata and event.ydata:\n",
        "        col = int(event.xdata // CELL_SIZE)\n",
        "        row = int(event.ydata // CELL_SIZE)\n",
        "\n",
        "        # If the cell is within the grid bounds\n",
        "        if 0 <= row < grid.shape[0] and 0 <= col < grid.shape[1]:\n",
        "            grid[row, col] = 1  # Set cell color to white (erase)\n",
        "            draw_grid()  # Redraw grid with updated color\n",
        "\n",
        "# Connect click event to erase function\n",
        "fig.canvas.mpl_connect('button_press_event', on_click)\n",
        "\n",
        "# Show the initial grid\n",
        "draw_grid()\n",
        "plt.gca().invert_yaxis()  # Invert y-axis for correct coordinate system\n",
        "plt.show()\n"
      ],
      "metadata": {
        "colab": {
          "base_uri": "https://localhost:8080/",
          "height": 682
        },
        "id": "Ogq-2mhE0L1j",
        "outputId": "dbeb8417-eff5-43cf-be61-b40f419cfb33"
      },
      "execution_count": 6,
      "outputs": [
        {
          "output_type": "display_data",
          "data": {
            "text/plain": [
              "<Figure size 800x800 with 1 Axes>"
            ],
            "image/png": "[encoded data removed]"
          },
          "metadata": {}
        }
      ]
    },
    {
      "cell_type": "markdown",
      "source": [
        "# ***04_flowing_with_data_structures***"
      ],
      "metadata": {
        "id": "PkC4pFvj16yC"
      }
    },
    {
      "cell_type": "code",
      "source": [
        "def add_three_copies(my_list, data):\n",
        "    for i in range(3):\n",
        "        my_list.append(data)\n",
        "\n",
        "def main():\n",
        "    message = input(\"Enter a message to copy: \")\n",
        "    my_list = []\n",
        "    print(\"List before:\", my_list)\n",
        "    add_three_copies(my_list, message)\n",
        "    print(\"List after:\", my_list)\n",
        "\n",
        "if __name__ == \"__main__\":\n",
        "    main()"
      ],
      "metadata": {
        "colab": {
          "base_uri": "https://localhost:8080/"
        },
        "id": "D-WGrHgf1-Aq",
        "outputId": "6fb896ee-f500-43e8-efad-53ec805c3a08"
      },
      "execution_count": 7,
      "outputs": [
        {
          "output_type": "stream",
          "name": "stdout",
          "text": [
            "Enter a message to copy: Greetings to all GIAIC Students\n",
            "List before: []\n",
            "List after: ['Greetings to all GIAIC Students', 'Greetings to all GIAIC Students', 'Greetings to all GIAIC Students']\n"
          ]
        }
      ]
    },
    {
      "cell_type": "markdown",
      "source": [
        "# ***05_get_first_element***"
      ],
      "metadata": {
        "id": "z2p9okQV2QMq"
      }
    },
    {
      "cell_type": "code",
      "source": [
        "\n",
        "def get_first_element(lst):\n",
        "    \"\"\"\n",
        "    Prints the first element of a provided list.\n",
        "    \"\"\"\n",
        "\n",
        "    print(lst[0])\n",
        "\n",
        "# There is no need to edit code beyond this point\n",
        "\n",
        "def get_lst():\n",
        "    \"\"\"\n",
        "    Prompts the user to enter one element of the list at a time and returns the resulting list.\n",
        "    \"\"\"\n",
        "    lst = []\n",
        "    elem: str = input(\"Please enter an element of the list or press enter to stop. \")\n",
        "    while elem != \"\":\n",
        "        lst.append(elem)\n",
        "        elem = input(\"Please enter an element of the list or press enter to stop. \")\n",
        "    return lst\n",
        "\n",
        "def main():\n",
        "    lst = get_lst()\n",
        "    get_first_element(lst)\n",
        "\n",
        "\n",
        "if __name__ == '__main__':\n",
        "    main()\n",
        "\n"
      ],
      "metadata": {
        "colab": {
          "base_uri": "https://localhost:8080/"
        },
        "id": "2r9-rZwo2TzB",
        "outputId": "79e78d7a-6c85-4682-a3e4-72caef36bbce"
      },
      "execution_count": 9,
      "outputs": [
        {
          "output_type": "stream",
          "name": "stdout",
          "text": [
            "Please enter an element of the list or press enter to stop. 8\n",
            "Please enter an element of the list or press enter to stop. \n",
            "8\n"
          ]
        }
      ]
    },
    {
      "cell_type": "markdown",
      "source": [
        "# ***06_get_last_element***"
      ],
      "metadata": {
        "id": "1zke2KN-2jRp"
      }
    },
    {
      "cell_type": "code",
      "source": [
        "def get_last_element(lst):\n",
        "    \"\"\"Prints the last element of the provided list.\"\"\"\n",
        "\n",
        "    print(lst[len(lst) - 1])\n",
        "\n",
        "def get_lst():\n",
        "    \"\"\"Prompts the user to enter one element of the list at a time and returns the resulting list.\"\"\"\n",
        "    lst = []\n",
        "    elem = input(\"Please enter an element of the list or press enter to stop. \")  #\n",
        "    while elem != \"\":\n",
        "        lst.append(elem)\n",
        "        elem = input(\"Please enter an element of the list or press enter to stop. \")  #\n",
        "    return lst\n",
        "\n",
        "def main():\n",
        "    lst = get_lst()\n",
        "    get_last_element(lst)\n",
        "\n",
        "\n",
        "if __name__ == '__main__':\n",
        "    main()\n"
      ],
      "metadata": {
        "colab": {
          "base_uri": "https://localhost:8080/"
        },
        "id": "nW3nirhv2nEB",
        "outputId": "d28d702f-5d4b-4dd6-87ea-9d3c03235b3e"
      },
      "execution_count": 10,
      "outputs": [
        {
          "output_type": "stream",
          "name": "stdout",
          "text": [
            "Please enter an element of the list or press enter to stop. 5\n",
            "Please enter an element of the list or press enter to stop. 10\n",
            "Please enter an element of the list or press enter to stop. 15\n",
            "Please enter an element of the list or press enter to stop. \n",
            "15\n"
          ]
        }
      ]
    },
    {
      "cell_type": "markdown",
      "source": [
        "# ***07_get_list***"
      ],
      "metadata": {
        "id": "9g01DyuP2tAx"
      }
    },
    {
      "cell_type": "code",
      "source": [
        "def main():\n",
        "    lst = []\n",
        "\n",
        "    val = input(\"Enter a value: \")\n",
        "    while val:\n",
        "        lst.append(val)\n",
        "        val = input(\"Enter a value: \")\n",
        "\n",
        "    print(\"Here's the list:\", lst)\n",
        "\n",
        "\n",
        "if __name__ == '__main__':\n",
        "    main()"
      ],
      "metadata": {
        "colab": {
          "base_uri": "https://localhost:8080/"
        },
        "id": "o9SDtyBp2xeZ",
        "outputId": "d3964d6c-991c-4854-a4b3-721df37a3eb2"
      },
      "execution_count": 11,
      "outputs": [
        {
          "output_type": "stream",
          "name": "stdout",
          "text": [
            "Enter a value: 10\n",
            "Enter a value: 20\n",
            "Enter a value: 20\n",
            "Enter a value: \n",
            "Here's the list: ['10', '20', '20']\n"
          ]
        }
      ]
    },
    {
      "cell_type": "markdown",
      "source": [
        "# ***08_shorten***"
      ],
      "metadata": {
        "id": "XkaOI28i23jj"
      }
    },
    {
      "cell_type": "code",
      "source": [
        "MAX_LENGTH : int = 3\n",
        "\n",
        "def shorten(lst):\n",
        "    while len(lst) > MAX_LENGTH:\n",
        "        last_elem = lst.pop()\n",
        "        print(f\"Removing element: {last_elem}\")\n",
        "\n",
        "# There is no need to edit code beyond this point\n",
        "\n",
        "def get_lst():\n",
        "    \"\"\"\n",
        "    Prompts the user to enter one element of the list at a time and returns the resulting list.\n",
        "    \"\"\"\n",
        "    lst = []\n",
        "    elem = input(\"Please enter an element of the list or press enter to stop. \")\n",
        "    while elem != \"\":\n",
        "        lst.append(elem)\n",
        "        elem = input(\"Please enter an element of the list or press enter to stop. \")\n",
        "    return lst\n",
        "\n",
        "def main():\n",
        "    lst = get_lst()\n",
        "    shorten(lst)\n",
        "\n",
        "if __name__ == '__main__':\n",
        "    main()\n"
      ],
      "metadata": {
        "colab": {
          "base_uri": "https://localhost:8080/"
        },
        "id": "se0xsXpT26u5",
        "outputId": "ff932a47-f6b2-4726-dc03-fc38604a621d"
      },
      "execution_count": 12,
      "outputs": [
        {
          "name": "stdout",
          "output_type": "stream",
          "text": [
            "Please enter an element of the list or press enter to stop. tayyaba\n",
            "Please enter an element of the list or press enter to stop. ramzan\n",
            "Please enter an element of the list or press enter to stop. \n"
          ]
        }
      ]
    }
  ]
}