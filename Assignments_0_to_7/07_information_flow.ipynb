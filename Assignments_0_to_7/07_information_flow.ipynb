{
  "nbformat": 4,
  "nbformat_minor": 0,
  "metadata": {
    "colab": {
      "provenance": []
    },
    "kernelspec": {
      "name": "python3",
      "display_name": "Python 3"
    },
    "language_info": {
      "name": "python"
    }
  },
  "cells": [
    {
      "cell_type": "markdown",
      "source": [
        "# ***00_choosing_returns***"
      ],
      "metadata": {
        "id": "Md8ZHYgn8LR1"
      }
    },
    {
      "cell_type": "code",
      "source": [
        "ADULT_AGE: int = 18\n",
        "\n",
        "def is_adult(age: int):\n",
        "    if age >= ADULT_AGE:\n",
        "        return True\n",
        "    return False\n",
        "\n",
        "def main():\n",
        "    BOLD = '\\033[1m'\n",
        "    ITALIC = '\\033[3m'\n",
        "    RESET = '\\033[0m'\n",
        "\n",
        "    age = int(input(f\"How old is this person?: {BOLD}{ITALIC}\"))\n",
        "    print(RESET, end=\"\")\n",
        "    print(is_adult(age))\n",
        "\n",
        "if __name__ == \"__main__\":\n",
        "    main()\n"
      ],
      "metadata": {
        "id": "pw_J2zR48PI9",
        "colab": {
          "base_uri": "https://localhost:8080/"
        },
        "outputId": "1e3e6ff4-c2aa-472e-ef7a-44c04e10fbd8"
      },
      "execution_count": 3,
      "outputs": [
        {
          "output_type": "stream",
          "name": "stdout",
          "text": [
            "How old is this person?: \u001b[1m\u001b[3m19\n",
            "\u001b[0mTrue\n"
          ]
        }
      ]
    },
    {
      "cell_type": "markdown",
      "source": [
        "# ***01_greetings***"
      ],
      "metadata": {
        "id": "CqZlkP3F8RGk"
      }
    },
    {
      "cell_type": "code",
      "source": [
        "def main():\n",
        "    BOLD = '\\033[1m'\n",
        "    ITALIC = '\\033[3m'\n",
        "    RESET = '\\033[0m'\n",
        "\n",
        "    name: str = input(f\"What's your name? {BOLD}{ITALIC}\")\n",
        "    print(RESET, end=\"\")\n",
        "    print(greet(name))\n",
        "\n",
        "def greet(name):\n",
        "    return \"Greetings \" + name + \"!\"\n",
        "\n",
        "if __name__ == '__main__':\n",
        "    main()\n"
      ],
      "metadata": {
        "id": "-OL9XbEs8Tck",
        "colab": {
          "base_uri": "https://localhost:8080/"
        },
        "outputId": "36aec709-b397-4d06-afea-4213a95f7620"
      },
      "execution_count": 4,
      "outputs": [
        {
          "output_type": "stream",
          "name": "stdout",
          "text": [
            "What's your name? \u001b[1m\u001b[3mTayyaba Ramzan\n",
            "\u001b[0mGreetings Tayyaba Ramzan!\n"
          ]
        }
      ]
    },
    {
      "cell_type": "markdown",
      "source": [
        "# ***02_in_range***"
      ],
      "metadata": {
        "id": "4EVSiDPS8V0t"
      }
    },
    {
      "cell_type": "code",
      "source": [
        "def in_range(n, low, high):\n",
        "    \"\"\"Returns True if n is between low and high (inclusive).\"\"\"\n",
        "    return low <= n <= high\n",
        "\n",
        "def main():\n",
        "    n = int(input(\"Enter a number: \"))\n",
        "    low = int(input(\"Enter the lower limit: \"))\n",
        "    high = int(input(\"Enter the upper limit: \"))\n",
        "\n",
        "    result = in_range(n, low, high)\n",
        "    print(result)\n",
        "\n",
        "if __name__ == '__main__':\n",
        "    main()"
      ],
      "metadata": {
        "id": "q5f911AW8ZB0",
        "colab": {
          "base_uri": "https://localhost:8080/"
        },
        "outputId": "125d74d2-47d0-4f8c-9939-99860a031f49"
      },
      "execution_count": 6,
      "outputs": [
        {
          "output_type": "stream",
          "name": "stdout",
          "text": [
            "Enter a number: 5\n",
            "Enter the lower limit: 1\n",
            "Enter the upper limit: 10\n",
            "True\n"
          ]
        }
      ]
    },
    {
      "cell_type": "markdown",
      "source": [
        "# ***03_in_stock***"
      ],
      "metadata": {
        "id": "g72D-61q8afE"
      }
    },
    {
      "cell_type": "code",
      "source": [
        "def main():\n",
        "    # ANSI escape codes for bold and italic\n",
        "    BOLD_ITALIC = '\\033[1m\\033[3m'\n",
        "    RESET = '\\033[0m'\n",
        "\n",
        "    # Prompt user to enter a fruit (with bold and italic formatting)\n",
        "    fruit : str = input(f\"{BOLD_ITALIC}Enter a fruit: {RESET}\")\n",
        "\n",
        "    # Call the function to get the number of that fruit in stock\n",
        "    stock = num_in_stock(fruit)\n",
        "\n",
        "    if stock > 0:  # If the fruit is in stock\n",
        "        print(\"This fruit is in stock! Here is how many:\")\n",
        "        print(stock)  # Print the number of fruits in stock\n",
        "    else:\n",
        "        print(\"This fruit is not in stock.\")  # If no fruit is in stock\n",
        "\n",
        "# There is no need to edit code beyond this point\n",
        "\n",
        "def num_in_stock(fruit):\n",
        "    \"\"\"\n",
        "    This function returns the number of fruit Sophia has in stock.\n",
        "    \"\"\"\n",
        "    if fruit == 'apple':\n",
        "        return 2\n",
        "    if fruit == 'durian':\n",
        "        return 4\n",
        "    if fruit == 'pear':\n",
        "        return 1000\n",
        "    else:\n",
        "        # this fruit is not in stock.\n",
        "        return 0\n",
        "\n",
        "if __name__ == '__main__':\n",
        "    main()\n"
      ],
      "metadata": {
        "id": "kjxBzcBm8dJs",
        "colab": {
          "base_uri": "https://localhost:8080/"
        },
        "outputId": "fdb63631-0180-4839-cd20-e9e9ff3b04b3"
      },
      "execution_count": 7,
      "outputs": [
        {
          "output_type": "stream",
          "name": "stdout",
          "text": [
            "\u001b[1m\u001b[3mEnter a fruit: \u001b[0mpear\n",
            "This fruit is in stock! Here is how many:\n",
            "1000\n"
          ]
        }
      ]
    },
    {
      "cell_type": "markdown",
      "source": [
        "# ***04_multiple_returns***"
      ],
      "metadata": {
        "id": "FRYjLanx8fL8"
      }
    },
    {
      "cell_type": "code",
      "source": [
        "# Function to get user data\n",
        "def get_user_data():\n",
        "    first_name = input(\"What is your first name?: \").strip()\n",
        "    last_name = input(\"What is your last name?: \").strip()\n",
        "    email = input(\"What is your email address?: \").strip()\n",
        "\n",
        "    return first_name, last_name, email  # Returning a tuple\n",
        "\n",
        "def main():\n",
        "    # Call the function and store the returned tuple\n",
        "    user_data = get_user_data()\n",
        "\n",
        "    # Display the collected data\n",
        "    print(\"Received the following user data:\", user_data)\n",
        "\n",
        "# Required line to run the program\n",
        "if __name__ == '__main__':\n",
        "    main()"
      ],
      "metadata": {
        "id": "F-yAJDFQ8jN8",
        "colab": {
          "base_uri": "https://localhost:8080/"
        },
        "outputId": "7cae4e0e-947b-44e4-d778-56fbc04974d9"
      },
      "execution_count": 8,
      "outputs": [
        {
          "output_type": "stream",
          "name": "stdout",
          "text": [
            "What is your first name?: Tayyaba\n",
            "What is your last name?: Ramzan\n",
            "What is your email address?: tayyabaramzan.it@gmail.com\n",
            "Received the following user data: ('Tayyaba', 'Ramzan', 'tayyabaramzan.it@gmail.com')\n"
          ]
        }
      ]
    },
    {
      "cell_type": "markdown",
      "source": [
        "# ***05_subtract_7***"
      ],
      "metadata": {
        "id": "te2oyew68we0"
      }
    },
    {
      "cell_type": "code",
      "source": [
        "def subtract_seven(num):\n",
        "    return num - 7  # Subtracts 7 from the given number\n",
        "\n",
        "def main():\n",
        "    number = int(input(\"Enter a number: \"))  # Get user input\n",
        "    result = subtract_seven(number)  # Call the helper function\n",
        "    print(\"Result after subtracting 7:\", result)  # Print the result\n",
        "\n",
        "# This provided line is required at the end of the Python file to call the main() function.\n",
        "if __name__ == '__main__':\n",
        "    main()"
      ],
      "metadata": {
        "id": "pMqDq7BF8xds",
        "colab": {
          "base_uri": "https://localhost:8080/"
        },
        "outputId": "81a81797-534d-4023-b898-05a41254a953"
      },
      "execution_count": 10,
      "outputs": [
        {
          "output_type": "stream",
          "name": "stdout",
          "text": [
            "Enter a number: 17\n",
            "Result after subtracting 7: 10\n"
          ]
        }
      ]
    }
  ]
}